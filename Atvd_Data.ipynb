{
 "cells": [
  {
   "cell_type": "code",
   "execution_count": 5,
   "id": "fa8468dc-fbba-4e33-9b33-0f038aae637c",
   "metadata": {},
   "outputs": [],
   "source": [
    "url = \"https://drive.usercontent.google.com/uc?id=1Jgto7psHaMRTAVzcFt7D6SgJiHMB7uGT\""
   ]
  },
  {
   "cell_type": "code",
   "execution_count": 1,
   "id": "97e2ee55-3508-427a-9819-219b738a6ada",
   "metadata": {},
   "outputs": [
    {
     "ename": "NameError",
     "evalue": "name 'url' is not defined",
     "output_type": "error",
     "traceback": [
      "\u001b[1;31m---------------------------------------------------------------------------\u001b[0m",
      "\u001b[1;31mNameError\u001b[0m                                 Traceback (most recent call last)",
      "Cell \u001b[1;32mIn[1], line 3\u001b[0m\n\u001b[0;32m      1\u001b[0m \u001b[38;5;28;01mimport\u001b[39;00m \u001b[38;5;21;01mpandas\u001b[39;00m \u001b[38;5;28;01mas\u001b[39;00m \u001b[38;5;21;01mpd\u001b[39;00m\n\u001b[1;32m----> 3\u001b[0m escolas \u001b[38;5;241m=\u001b[39m pd\u001b[38;5;241m.\u001b[39mread_csv(\u001b[43murl\u001b[49m)\n",
      "\u001b[1;31mNameError\u001b[0m: name 'url' is not defined"
     ]
    }
   ],
   "source": [
    "import pandas as pd\n",
    "\n",
    "escolas = pd.read_csv(url)"
   ]
  },
  {
   "cell_type": "code",
   "execution_count": 15,
   "id": "99e39bb2-de23-41f5-93ca-0371baa18fd9",
   "metadata": {},
   "outputs": [
    {
     "name": "stdout",
     "output_type": "stream",
     "text": [
      "<class 'pandas.core.frame.DataFrame'>\n",
      "RangeIndex: 15 entries, 0 to 14\n",
      "Data columns (total 5 columns):\n",
      " #   Column           Non-Null Count  Dtype \n",
      "---  ------           --------------  ----- \n",
      " 0   ID_Escola        15 non-null     int64 \n",
      " 1   Nome_Escola      15 non-null     object\n",
      " 2   Tipo_Escola      15 non-null     object\n",
      " 3   Numero_Alunos    15 non-null     int64 \n",
      " 4   Orcamento_Anual  15 non-null     int64 \n",
      "dtypes: int64(3), object(2)\n",
      "memory usage: 732.0+ bytes\n"
     ]
    }
   ],
   "source": [
    "escolas.info()"
   ]
  },
  {
   "cell_type": "code",
   "execution_count": 16,
   "id": "d246b2ad-a77f-4e60-8829-a087fdbf8fd6",
   "metadata": {},
   "outputs": [],
   "source": [
    "orcamento_total = escolas['Orcamento_Anual']"
   ]
  },
  {
   "cell_type": "code",
   "execution_count": 21,
   "id": "39f67d60-90f5-4f61-a703-4ec2177573b0",
   "metadata": {},
   "outputs": [
    {
     "data": {
      "text/plain": [
       "np.int64(24649428)"
      ]
     },
     "execution_count": 21,
     "metadata": {},
     "output_type": "execute_result"
    }
   ],
   "source": [
    "escolas['Orcamento_Anual'].sum()"
   ]
  },
  {
   "cell_type": "code",
   "execution_count": null,
   "id": "033215d8-1779-4011-93ca-529a1b7e5123",
   "metadata": {},
   "outputs": [],
   "source": []
  },
  {
   "cell_type": "code",
   "execution_count": null,
   "id": "9cfd03c8-971c-4d86-92b8-c4270be803f1",
   "metadata": {},
   "outputs": [],
   "source": []
  }
 ],
 "metadata": {
  "kernelspec": {
   "display_name": "Python 3 (ipykernel)",
   "language": "python",
   "name": "python3"
  },
  "language_info": {
   "codemirror_mode": {
    "name": "ipython",
    "version": 3
   },
   "file_extension": ".py",
   "mimetype": "text/x-python",
   "name": "python",
   "nbconvert_exporter": "python",
   "pygments_lexer": "ipython3",
   "version": "3.12.5"
  }
 },
 "nbformat": 4,
 "nbformat_minor": 5
}
