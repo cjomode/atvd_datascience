{
 "cells": [
  {
   "cell_type": "code",
   "execution_count": 42,
   "id": "fa8468dc-fbba-4e33-9b33-0f038aae637c",
   "metadata": {},
   "outputs": [],
   "source": [
    "url = \"https://drive.usercontent.google.com/uc?id=1Jgto7psHaMRTAVzcFt7D6SgJiHMB7uGT\""
   ]
  },
  {
   "cell_type": "code",
   "execution_count": 43,
   "id": "de5f71b3-afc0-4a6d-bc8f-58f794fa67aa",
   "metadata": {},
   "outputs": [
    {
     "name": "stdout",
     "output_type": "stream",
     "text": [
      "<class 'pandas.core.frame.DataFrame'>\n",
      "RangeIndex: 15 entries, 0 to 14\n",
      "Data columns (total 5 columns):\n",
      " #   Column           Non-Null Count  Dtype \n",
      "---  ------           --------------  ----- \n",
      " 0   ID_Escola        15 non-null     int64 \n",
      " 1   Nome_Escola      15 non-null     object\n",
      " 2   Tipo_Escola      15 non-null     object\n",
      " 3   Numero_Alunos    15 non-null     int64 \n",
      " 4   Orcamento_Anual  15 non-null     int64 \n",
      "dtypes: int64(3), object(2)\n",
      "memory usage: 732.0+ bytes\n"
     ]
    }
   ],
   "source": [
    "import pandas as pd\n",
    "\n",
    "escolas = pd.read_csv(url)\n",
    "\n",
    "escolas.info()"
   ]
  },
  {
   "cell_type": "code",
   "execution_count": 49,
   "id": "97e2ee55-3508-427a-9819-219b738a6ada",
   "metadata": {},
   "outputs": [
    {
     "name": "stdout",
     "output_type": "stream",
     "text": [
      "O orçamento total foi de: R$ 24,649,428.00 \n"
     ]
    }
   ],
   "source": [
    "#Orçamento total das escolas\n",
    "\n",
    "import pandas as pd\n",
    "\n",
    "escolas = pd.read_csv(url)\n",
    "\n",
    "orcamento_total = escolas['Orcamento_Anual'].sum()\n",
    "\n",
    "print(f\"O orçamento total foi de: R$ {orcamento_total:,.2f} \")"
   ]
  },
  {
   "cell_type": "code",
   "execution_count": null,
   "id": "d48bd4e8-a9fd-4123-b5d0-ffc1577fc549",
   "metadata": {},
   "outputs": [],
   "source": []
  },
  {
   "cell_type": "code",
   "execution_count": 45,
   "id": "9cfd03c8-971c-4d86-92b8-c4270be803f1",
   "metadata": {},
   "outputs": [
    {
     "name": "stdout",
     "output_type": "stream",
     "text": [
      "Gasto per capita: 655.0\n",
      "Gasto per capita: 578.0\n"
     ]
    }
   ],
   "source": [
    "#Escola que tem o maior e menor gasto por aluno\n",
    "\n",
    "import pandas as pd\n",
    "\n",
    "escolas = pd.read_csv(url)\n",
    "\n",
    "escolas['Gasto_Per_Capita'] = escolas['Orcamento_Anual'] / escolas['Numero_Alunos']\n",
    "\n",
    "escola_com_maior_gasto = escolas['Gasto_Per_Capita'].idxmax()\n",
    "escola_com_menor_gasto = escolas['Gasto_Per_Capita'].idxmin()\n",
    "\n",
    "print(f\"Gasto per capita: {escolas.loc[escola_com_maior_gasto, 'Gasto_Per_Capita']}\")\n",
    "print(f\"Gasto per capita: {escolas.loc[escola_com_menor_gasto, 'Gasto_Per_Capita']}\")"
   ]
  },
  {
   "cell_type": "code",
   "execution_count": null,
   "id": "a135c1fc-3835-4206-8765-c1c07be85eec",
   "metadata": {},
   "outputs": [],
   "source": []
  },
  {
   "cell_type": "code",
   "execution_count": 46,
   "id": "ca76bd47-e32e-48de-aee4-70bbed2ec29f",
   "metadata": {},
   "outputs": [
    {
     "name": "stdout",
     "output_type": "stream",
     "text": [
      "             ID_Escola  Numero_Alunos  Orcamento_Anual\n",
      "Tipo_Escola                                           \n",
      "Particular    7.250000    1524.250000     9.126881e+05\n",
      "Publica       6.714286    3853.714286     2.478275e+06\n"
     ]
    }
   ],
   "source": [
    "#Média do numero de alunos por tipo de escola\n",
    "\n",
    "import pandas as pd\n",
    "\n",
    "escolas = pd.read_csv(url)\n",
    "\n",
    "media_alunos = escolas.groupby('Tipo_Escola').mean('Numero_Alunos')\n",
    "\n",
    "print(media_alunos)\n"
   ]
  },
  {
   "cell_type": "code",
   "execution_count": null,
   "id": "3221119e-2963-4cc5-ae94-baf849c3f7cf",
   "metadata": {},
   "outputs": [],
   "source": []
  },
  {
   "cell_type": "code",
   "execution_count": 47,
   "id": "9c60e3d0-b63b-456d-83f8-1f580eb7ce0a",
   "metadata": {},
   "outputs": [
    {
     "name": "stdout",
     "output_type": "stream",
     "text": [
      "7 escolas têm um orçamento anual acima de 1.5 milhão\n"
     ]
    }
   ],
   "source": [
    "#Quantas escolas tem um orçamento anual acima de 1,5 milhão\n",
    "\n",
    "import pandas as pd\n",
    "\n",
    "escolas = pd.read_csv(url)\n",
    "\n",
    "orcamento_total_escolas = len(escolas[escolas['Orcamento_Anual'] > 1500000])\n",
    "\n",
    "print(f\"{orcamento_total_escolas} escolas têm um orçamento anual acima de 1.5 milhão\")\n"
   ]
  }
 ],
 "metadata": {
  "kernelspec": {
   "display_name": "Python 3 (ipykernel)",
   "language": "python",
   "name": "python3"
  },
  "language_info": {
   "codemirror_mode": {
    "name": "ipython",
    "version": 3
   },
   "file_extension": ".py",
   "mimetype": "text/x-python",
   "name": "python",
   "nbconvert_exporter": "python",
   "pygments_lexer": "ipython3",
   "version": "3.12.5"
  }
 },
 "nbformat": 4,
 "nbformat_minor": 5
}
